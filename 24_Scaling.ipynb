{
 "cells": [
  {
   "cell_type": "markdown",
   "metadata": {},
   "source": [
    "# Feature Scaling\n",
    "\n",
    "Scikit-learn provides the following scaling classes:\n",
    "\n",
    "* **StandardScaler(X)**: Scales the data so that the mean is 0 and the standard deviation is 1.\n",
    "* **MinMaxScaler(X)**: Scales the data so that the maximum value is 1 and the minimum value is 0.\n"
   ]
  },
  {
   "cell_type": "markdown",
   "metadata": {},
   "source": [
    "Standardization vs Normalization\n",
    "\n",
    "In data preprocessing, **Standardization** and **Normalization** are two common techniques used to scale features. Here's the difference between them:"
   ]
  },
  {
   "cell_type": "markdown",
   "metadata": {},
   "source": [
    "| **Technique**     | **Description**                                                                                             | **Formula**                                                    | **When to Use**                                       |\n",
    "|-------------------|-------------------------------------------------------------------------------------------------------------|---------------------------------------------------------------|------------------------------------------------------|\n",
    "| **Standardization** | Transforms the data to have a mean of 0 and a standard deviation of 1. This is useful when the data follows a Gaussian distribution. | $ \\frac{x - \\mu}{\\sigma} $ (where $ \\mu $ is the mean and $ \\sigma $ is the standard deviation) | Use when the algorithm assumes the data is normally distributed (e.g., Linear Regression, SVM, Logistic Regression). |\n",
    "| **Normalization**   | Scales the data to a fixed range, typically [0, 1]. It is useful when the data does not follow a Gaussian distribution. | $ \\frac{x - \\min(x)}{\\max(x) - \\min(x)} $ (scales data to the range [0, 1]) | Use when the data needs to be scaled to a specific range (e.g., Neural Networks, KNN). |\n"
   ]
  },
  {
   "cell_type": "markdown",
   "metadata": {},
   "source": [
    "Key Differences\n",
    "\n",
    "- **Standardization**: Centers the data by subtracting the mean, then scales it by dividing by the standard deviation. It does not bound values to a specific range.\n",
    "- **Normalization**: Rescales the data to fit within a specified range, such as [0, 1], which is helpful when features have different scales."
   ]
  },
  {
   "cell_type": "markdown",
   "metadata": {},
   "source": [
    "![purple-divider](https://user-images.githubusercontent.com/7065401/52071927-c1cd7100-2562-11e9-908a-dde91ba14e59.png)\n",
    "\n",
    "# Hands On!"
   ]
  },
  {
   "cell_type": "markdown",
   "metadata": {},
   "source": [
    "## Using formula to implement scaler"
   ]
  },
  {
   "cell_type": "code",
   "execution_count": 173,
   "metadata": {},
   "outputs": [
    {
     "name": "stdout",
     "output_type": "stream",
     "text": [
      "Standardization: [-1.46385011 -0.87831007 -0.29277002  0.29277002  0.87831007  1.46385011]\n",
      "Normalization: [0.  0.2 0.4 0.6 0.8 1. ]\n"
     ]
    }
   ],
   "source": [
    "import numpy as np\n",
    "\n",
    "# Sample data\n",
    "ex = np.array([0, 1, 2, 3, 4, 5])\n",
    "\n",
    "# Standardization\n",
    "standardized_data = (ex - ex.mean()) / ex.std()\n",
    "print(\"Standardization:\", standardized_data)\n",
    "\n",
    "# Normalization\n",
    "normalized_data = (ex - ex.min()) / (ex.max() - ex.min())\n",
    "print(\"Normalization:\", normalized_data)"
   ]
  },
  {
   "cell_type": "markdown",
   "metadata": {},
   "source": [
    "## Using Scikit-learn Scaler\n",
    "\n",
    "The usage of `StandardScaler` or `MinMaxScaler` is as follows:\n",
    "\n",
    "* (1) **`fit`**: Estimates the distribution of the training data. When the `fit` method is executed on the training data, it stores the distribution parameters (mean and standard deviation) inside the object.\n",
    "* (2) **`transform`**: Transforms the training data. When the `transform` method is executed on the training data, it scales the data based on the parameters learned during `fit`.\n",
    "* (3) **`fit_transform`**: Combines steps (1) and (2) into one method. The `fit_transform` method fits the model on the training data and then transforms the data in one step.\n",
    "\n",
    "For preprocessing:\n",
    "- Apply the **`fit_transform()`** method on the training data.\n",
    "- Apply the **`transform()`** method on the test data.\n",
    "\n",
    "**Important Note**:  \n",
    "If the training and test data are scaled differently, the trained model may misinterpret the test data, leading to inaccurate performance evaluation. Therefore, both the training and test data should be preprocessed using the same scaling ratio.\n"
   ]
  },
  {
   "cell_type": "code",
   "execution_count": 174,
   "metadata": {},
   "outputs": [],
   "source": [
    "# given random data\n",
    "X_train = np.array([0, 1, 2, 3, 4, 5])\n",
    "X_test = np.array([0, 10, 20, 30, 40, 50])"
   ]
  },
  {
   "cell_type": "code",
   "execution_count": 175,
   "metadata": {},
   "outputs": [
    {
     "name": "stdout",
     "output_type": "stream",
     "text": [
      "[[-1.46385011]\n",
      " [-0.87831007]\n",
      " [-0.29277002]\n",
      " [ 0.29277002]\n",
      " [ 0.87831007]\n",
      " [ 1.46385011]]\n",
      "------------------------------\n",
      "[[-1.46385011]\n",
      " [ 4.39155033]\n",
      " [10.24695077]\n",
      " [16.1023512 ]\n",
      " [21.95775164]\n",
      " [27.81315208]]\n"
     ]
    }
   ],
   "source": [
    "from sklearn.preprocessing import StandardScaler\n",
    "\n",
    "scaler1 = StandardScaler()\n",
    "X_train_scaled = scaler1.fit_transform(X_train.reshape(-1, 1))\n",
    "X_test_scaled = scaler1.transform(X_test.reshape(-1, 1))\n",
    "\n",
    "print(X_train_scaled)  # average to be 0, stdev to be 1.\n",
    "print(\"-\" * 30)\n",
    "print(X_test_scaled)"
   ]
  },
  {
   "cell_type": "code",
   "execution_count": 176,
   "metadata": {},
   "outputs": [
    {
     "name": "stdout",
     "output_type": "stream",
     "text": [
      "[[0. ]\n",
      " [0.2]\n",
      " [0.4]\n",
      " [0.6]\n",
      " [0.8]\n",
      " [1. ]]\n",
      "------------------------------\n",
      "[[ 0.]\n",
      " [ 2.]\n",
      " [ 4.]\n",
      " [ 6.]\n",
      " [ 8.]\n",
      " [10.]]\n"
     ]
    }
   ],
   "source": [
    "from sklearn.preprocessing import MinMaxScaler\n",
    "\n",
    "scaler2 = MinMaxScaler()\n",
    "X_train_scaled = scaler2.fit_transform(X_train.reshape(-1, 1))\n",
    "X_test_scaled = scaler2.transform(X_test.reshape(-1, 1))\n",
    "\n",
    "print(X_train_scaled)  # starting from 0 to 1\n",
    "print(\"-\" * 30)\n",
    "print(X_test_scaled)"
   ]
  },
  {
   "cell_type": "markdown",
   "metadata": {},
   "source": [
    "### 1. Why use `transform` instead of `fit_transform` for test X?\n",
    "\n",
    "`MinMaxScaler` sets the **scaling criteria (minimum and maximum)** based on the training data (`X_train`). This scaling criteria must be reused for the test data to ensure consistency. Therefore, we only use `transform` on the test data without performing `fit` again.\n",
    "\n",
    "#### Reason:\n",
    "- **`fit`**: Calculates the minimum (`min`) and maximum (`max`) values of the data and stores them as the internal state (scaling criteria).\n",
    "- **`transform`**: Applies the previously calculated criteria to transform the data.\n",
    "- If `fit` is called again on the test data, it recalculates the `min` and `max` values, leading to different scaling criteria. This would break the consistency required for evaluation and prediction.\n",
    "\n",
    "#### Summary:\n",
    "- **`fit_transform`**: Used on the training data. Sets the criteria and transforms the data.\n",
    "- **`transform`**: Used on the test data. Reuses the criteria established by the training data.\n",
    "\n",
    "---\n",
    "\n",
    "### 2. Why is the test data not scaled within the [0, 1] range?\n",
    "\n",
    "The `MinMaxScaler` scales the data based on the **minimum and maximum values of the training data**.  \n",
    "If the test data contains values that exceed the training data's range, the transformed values for the test data can fall outside the [0, 1] range.\n",
    "\n",
    "#### Example:\n",
    "- **Training Data (`X_train`)**: `[1, 2, 3, 4, 5]`\n",
    "  - Minimum (`min`): 1\n",
    "  - Maximum (`max`): 5\n",
    "  - Scaling formula:  \n",
    "    $ [\n",
    "    X_{\\text{scaled}} = \\frac{X - \\text{min}}{\\text{max} - \\text{min}}\n",
    "    $ ]\n",
    "\n",
    "- **Test Data (`X_test`)**: `[0, 6, 10]`\n",
    "  - The test data values will be scaled using the training data's `min` and `max`:\n",
    "    - $ \\frac{0 - 1}{5 - 1} = -0.25 $ (value falls below 0)\n",
    "    - $ \\frac{6 - 1}{5 - 1} = 1.25 $ (value exceeds 1)\n",
    "    - $ \\frac{10 - 1}{5 - 1} = 2.25 $ (value exceeds 1)\n",
    "\n",
    "\n",
    "This is expected behavior and indicates that the test data contains values outside the training data's range.\n"
   ]
  },
  {
   "cell_type": "markdown",
   "metadata": {},
   "source": [
    "# Effect of Scaling\n",
    "\n",
    "Adjusting the scale of the data can improve the learning process, leading to better model accuracy compared to when scaling is not applied.\n"
   ]
  },
  {
   "cell_type": "markdown",
   "metadata": {},
   "source": [
    "## BrestCancerExample"
   ]
  },
  {
   "cell_type": "code",
   "execution_count": 177,
   "metadata": {},
   "outputs": [],
   "source": [
    "from sklearn.datasets import load_breast_cancer\n",
    "from sklearn.model_selection import train_test_split\n",
    "\n",
    "cancer = load_breast_cancer()\n",
    "\n",
    "X_train, X_test, y_train, y_test = train_test_split(\n",
    "    cancer.data, cancer.target, stratify=cancer.target\n",
    ")"
   ]
  },
  {
   "cell_type": "markdown",
   "metadata": {},
   "source": [
    "사이킷런에서 제공하는 유방암 데이터셋에는 스케일이 매우 다른 특성변수가 있다."
   ]
  },
  {
   "cell_type": "code",
   "execution_count": 178,
   "metadata": {},
   "outputs": [
    {
     "data": {
      "text/plain": [
       "array(['mean perimeter', 'mean area'], dtype='<U23')"
      ]
     },
     "execution_count": 178,
     "metadata": {},
     "output_type": "execute_result"
    }
   ],
   "source": [
    "cancer.feature_names[[2, 3]]"
   ]
  },
  {
   "cell_type": "code",
   "execution_count": 179,
   "metadata": {},
   "outputs": [
    {
     "data": {
      "image/png": "[encoded data removed]",
      "text/plain": [
       "<Figure size 640x480 with 1 Axes>"
      ]
     },
     "metadata": {},
     "output_type": "display_data"
    }
   ],
   "source": [
    "import matplotlib.pyplot as plt\n",
    "\n",
    "%matplotlib inline\n",
    "\n",
    "plt.boxplot(X_train[:, [2, 3]])\n",
    "plt.xticks([1, 2], cancer.feature_names[[2, 3]])\n",
    "plt.show()"
   ]
  },
  {
   "cell_type": "markdown",
   "metadata": {},
   "source": [
    "### when data NOT scaled"
   ]
  },
  {
   "cell_type": "code",
   "execution_count": 180,
   "metadata": {},
   "outputs": [
    {
     "name": "stdout",
     "output_type": "stream",
     "text": [
      "test accuracy: 0.629\n"
     ]
    }
   ],
   "source": [
    "from sklearn.svm import SVC\n",
    "\n",
    "# you do not need to know everything about SVC here, just consider we are just calculating score\n",
    "\n",
    "svc = SVC(gamma=\"auto\")\n",
    "svc.fit(X_train, y_train)\n",
    "print(\"test accuracy: %.3f\" % (svc.score(X_test, y_test)))"
   ]
  },
  {
   "cell_type": "markdown",
   "metadata": {},
   "source": [
    "### when data scaling DONE"
   ]
  },
  {
   "cell_type": "code",
   "execution_count": 181,
   "metadata": {},
   "outputs": [
    {
     "name": "stdout",
     "output_type": "stream",
     "text": [
      "test accuracy: 0.951\n"
     ]
    }
   ],
   "source": [
    "from sklearn.preprocessing import MinMaxScaler\n",
    "\n",
    "scaler = MinMaxScaler()\n",
    "\n",
    "X_train_scale = scaler.fit_transform(X_train)\n",
    "X_test_scale = scaler.transform(X_test)\n",
    "\n",
    "svc.fit(X_train_scale, y_train)\n",
    "\n",
    "print(\"test accuracy: %.3f\" % (svc.score(X_test_scale, y_test)))"
   ]
  },
  {
   "cell_type": "markdown",
   "metadata": {},
   "source": [
    "## DIABETES EXAMPLES"
   ]
  },
  {
   "cell_type": "markdown",
   "metadata": {},
   "source": [
    "### **Scaling Data with Diabetes Dataset**\n",
    "\n",
    "**Problem Description**\n",
    "\n",
    "In this exercise, we will use the diabetes dataset from scikit-learn to demonstrate the impact of scaling on model performance. Scaling data is crucial for many machine learning algorithms, especially those that rely on distance metrics (like k-NN, SVMs, etc.) or gradient-based optimization methods (like linear regression). \n",
    "\n",
    "We will compare the performance of a linear regression model with and without scaling, using **StandardScaler** and **MinMaxScaler** as scaling methods.\n",
    "\n",
    "**Exercise Steps**\n",
    "\n",
    "1. **Without Scaling**: Train the linear regression model without applying any scaling to the data.\n",
    "2. **With StandardScaler**: Apply `StandardScaler` to scale the features and then train the linear regression model.\n",
    "3. **With MinMaxScaler**: Apply `MinMaxScaler` to scale the features and then train the linear regression model.\n",
    "\n",
    "We will evaluate each case using Mean Squared Error (MSE) on the test dataset and compare the performance.\n",
    "\n",
    "**Questions**\n",
    "\n",
    "1. **Compare the MSE** of the model without scaling and with scaling. Why does scaling affect the model's performance? \n",
    "2. **Compare the MSE** results between `StandardScaler` and `MinMaxScaler`. Which method seems to work better, and why do you think so?\n",
    "3. **Analyze the effect of scaling** on model learning. How does it impact convergence and accuracy in linear regression? How might different models behave with scaling?\n",
    "\n",
    "**Expected Results**\n",
    "\n",
    "- **Without Scaling**: The MSE value is likely to be higher, as the model will struggle to properly learn from data with different feature scales.\n",
    "- **With Scaling**: After applying scaling, the model should perform better with lower MSE because the features will have a similar range and variance, which helps the model converge faster.\n",
    "- **Comparison of Scaling Methods**: `StandardScaler` and `MinMaxScaler` use different approaches to scaling. `StandardScaler` standardizes the data based on mean and standard deviation, while `MinMaxScaler` transforms the data into a [0, 1] range. Depending on the data distribution, one method might perform better than the other.\n",
    "\n",
    "**Learning Points**\n",
    "- **Scaling** ensures that all features are treated equally by the model, avoiding bias towards features with larger magnitudes.\n",
    "- **StandardScaler** standardizes data based on the mean and standard deviation, making it useful when the features are normally distributed.\n",
    "- **MinMaxScaler** is more sensitive to outliers, but is often used when features are expected to fall within a fixed range (like [0, 1]).\n",
    "- **Model Impact**: Scaling can improve the model’s performance, especially for models that use distance metrics or gradient-based optimization techniques.\n"
   ]
  }
 ],
 "metadata": {
  "kernelspec": {
   "display_name": "venv",
   "language": "python",
   "name": "python3"
  },
  "language_info": {
   "codemirror_mode": {
    "name": "ipython",
    "version": 3
   },
   "file_extension": ".py",
   "mimetype": "text/x-python",
   "name": "python",
   "nbconvert_exporter": "python",
   "pygments_lexer": "ipython3",
   "version": "3.8.6"
  }
 },
 "nbformat": 4,
 "nbformat_minor": 2
}
