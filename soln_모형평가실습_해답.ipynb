{
 "cells": [
  {
   "cell_type": "markdown",
   "metadata": {},
   "source": [
    "# 모형평가 실습\n",
    "\n",
    "* load_digits : 8X8 픽셀로 이루어진 0~9까지 손글씨 데이터셋\n",
    "* 손글씨 데이터셋을 읽어들이고 로지스틱 회귀로 분류모형을 생성한다.\n",
    "* 생성된 분류 모형을 평가한다.\n",
    "    * K-Fold Cross Validation\n",
    "    * Confusion matrix \n",
    "    * Accuracy, Precision, Recall etc\n",
    "    * ROC, AUC"
   ]
  },
  {
   "cell_type": "code",
   "execution_count": 1,
   "metadata": {},
   "outputs": [],
   "source": [
    "# 라이브러리를 임포트합니다.\n",
    "from sklearn import datasets\n",
    "from sklearn import metrics\n",
    "from sklearn.model_selection import KFold, cross_val_score\n",
    "from sklearn.pipeline import make_pipeline\n",
    "from sklearn.preprocessing import StandardScaler"
   ]
  },
  {
   "cell_type": "code",
   "execution_count": 2,
   "metadata": {},
   "outputs": [],
   "source": [
    "# 숫자 데이터셋을 로드합니다.\n",
    "digits = datasets.load_digits()\n",
    "\n",
    "# 특성 행렬을 만듭니다.\n",
    "features = digits.data\n",
    "\n",
    "# 타깃 벡터를 만듭니다.\n",
    "target = digits.target"
   ]
  },
  {
   "cell_type": "code",
   "execution_count": 3,
   "metadata": {},
   "outputs": [],
   "source": [
    "# 훈련데이터셋과 테스트데이터셋을 분리한다.\n",
    "from sklearn.model_selection import train_test_split\n",
    "\n",
    "X_train, X_test, y_train, y_test = train_test_split(features, target, \n",
    "                                                    test_size=0.3, random_state=1)\n"
   ]
  },
  {
   "cell_type": "markdown",
   "metadata": {},
   "source": [
    "### 문제 1\n",
    "\n",
    "* RandomForestClassifier로 분류 모형을 생성한다."
   ]
  },
  {
   "cell_type": "code",
   "execution_count": 4,
   "metadata": {},
   "outputs": [],
   "source": [
    "from sklearn.ensemble import RandomForestClassifier\n",
    "\n",
    "# 로지스틱 회귀 객체를 만듭니다.\n",
    "rf = RandomForestClassifier()\n"
   ]
  },
  {
   "cell_type": "markdown",
   "metadata": {},
   "source": [
    "### 문제 2\n",
    "\n",
    "* 10-Fold cross validation 을 사용하여 문제 1에서 생성한 모형을 accuracy에 대해 평가해 보자.\n",
    "* 평균 accuracy를 확인해 보자."
   ]
  },
  {
   "cell_type": "code",
   "execution_count": 5,
   "metadata": {},
   "outputs": [
    {
     "data": {
      "text/plain": [
       "0.9760707635009311"
      ]
     },
     "execution_count": 5,
     "metadata": {},
     "output_type": "execute_result"
    }
   ],
   "source": [
    "# k-폴드 교차검증을 만듭니다.\n",
    "kf = KFold(n_splits=10, shuffle=True, random_state=1)\n",
    "\n",
    "# k-폴드 교차검증을 수행합니다.\n",
    "cv_results = cross_val_score(rf, # 파이프라인\n",
    "                             features, # 특성 행렬\n",
    "                             target, # 타깃 벡터\n",
    "                             cv=kf, # 교차 검증 기법\n",
    "                             scoring=\"accuracy\", # 평가 지표\n",
    "                             n_jobs=-1) # 모든 CPU 코어 사용\n",
    "\n",
    "# 평균을 계산합니다.\n",
    "cv_results.mean()"
   ]
  },
  {
   "cell_type": "markdown",
   "metadata": {},
   "source": [
    "### 문제 3\n",
    "* Confusion Matix를 출력하시오."
   ]
  },
  {
   "cell_type": "code",
   "execution_count": 6,
   "metadata": {},
   "outputs": [
    {
     "name": "stdout",
     "output_type": "stream",
     "text": [
      "[[57  0  0  0  2  0  0  0  0  0]\n",
      " [ 0 48  0  0  0  1  0  0  0  0]\n",
      " [ 0  0 49  0  0  0  0  0  0  0]\n",
      " [ 0  1  0 61  0  0  0  1  1  0]\n",
      " [ 0  0  0  0 61  0  0  0  0  0]\n",
      " [ 0  0  0  0  0 46  0  0  0  1]\n",
      " [ 0  0  0  0  0  0 51  0  0  0]\n",
      " [ 0  0  0  0  0  0  0 56  0  1]\n",
      " [ 0  0  0  0  0  0  0  0 45  1]\n",
      " [ 0  0  0  0  0  2  0  0  0 55]]\n"
     ]
    }
   ],
   "source": [
    "y_pred = rf.fit(X_train, y_train).predict(X_test)\n",
    "mat = metrics.confusion_matrix(y_test, y_pred)\n",
    "print(mat)"
   ]
  },
  {
   "cell_type": "markdown",
   "metadata": {},
   "source": [
    "### 문제 4\n",
    "\n",
    "* 생성된 로지스틱 회귀 모형의 Accuracy, Precision, Recall, F1 score를 출력하시오.\n",
    "* classification_report를 사용하시오."
   ]
  },
  {
   "cell_type": "code",
   "execution_count": 7,
   "metadata": {},
   "outputs": [
    {
     "name": "stdout",
     "output_type": "stream",
     "text": [
      "              precision    recall  f1-score   support\n",
      "\n",
      "           0       1.00      0.97      0.98        59\n",
      "           1       0.98      0.98      0.98        49\n",
      "           2       1.00      1.00      1.00        49\n",
      "           3       1.00      0.95      0.98        64\n",
      "           4       0.97      1.00      0.98        61\n",
      "           5       0.94      0.98      0.96        47\n",
      "           6       1.00      1.00      1.00        51\n",
      "           7       0.98      0.98      0.98        57\n",
      "           8       0.98      0.98      0.98        46\n",
      "           9       0.95      0.96      0.96        57\n",
      "\n",
      "    accuracy                           0.98       540\n",
      "   macro avg       0.98      0.98      0.98       540\n",
      "weighted avg       0.98      0.98      0.98       540\n",
      "\n"
     ]
    }
   ],
   "source": [
    "from sklearn.metrics import classification_report\n",
    "\n",
    "print(classification_report(y_test,\n",
    "                           y_pred))"
   ]
  },
  {
   "cell_type": "markdown",
   "metadata": {},
   "source": [
    "### 문제 5\n",
    "* validation_curve를 사용한다.\n",
    "* RandomForestClassifier의 n_estimator의 값을 변경할 때 모형의 성능 변화를 확인한다.\n",
    "* 그래프를 그려서 훈련데이터셋과 테스트데이터셋의 accuracy를 비교하여 시각화 하시오."
   ]
  },
  {
   "cell_type": "code",
   "execution_count": 8,
   "metadata": {},
   "outputs": [],
   "source": [
    "# RandomForestClassifier의 n_estimator의 값을 변경할 때 모형의 성능 변화를 확인\n",
    "\n",
    "from sklearn.model_selection import validation_curve\n",
    "import numpy as np\n",
    "\n",
    "param_range = np.arange(1, 100, 10)\n",
    "train_scores, test_scores = validation_curve(rf,\n",
    "                                             X_train,\n",
    "                                             y_train,\n",
    "                                             param_name = \"n_estimators\",\n",
    "                                             param_range = param_range,\n",
    "                                             cv=3,\n",
    "                                             scoring = 'accuracy'\n",
    "                                            )"
   ]
  },
  {
   "cell_type": "code",
   "execution_count": 9,
   "metadata": {},
   "outputs": [],
   "source": [
    "train_mean = np.mean(train_scores, axis=1)\n",
    "test_mean = np.mean(test_scores, axis=1)"
   ]
  },
  {
   "cell_type": "code",
   "execution_count": 10,
   "metadata": {},
   "outputs": [
    {
     "data": {
      "image/png": "[encoded data removed]",
      "text/plain": [
       "<Figure size 640x480 with 1 Axes>"
      ]
     },
     "metadata": {},
     "output_type": "display_data"
    }
   ],
   "source": [
    "# 훈련데이터셋과 테스트데이터셋의 accuracy를 비교하여 시각화한다.\n",
    "import matplotlib.pyplot as plt\n",
    "\n",
    "plt.plot(param_range, train_mean, label='Training Scores')\n",
    "plt.plot(param_range, test_mean, label = 'Testing Scores')\n",
    "plt.title(\"Validation Curve with RandomForest\")\n",
    "plt.xlabel(\"Number of Trees\")\n",
    "plt.ylabel(\"Accuracy\")\n",
    "plt.show()"
   ]
  }
 ],
 "metadata": {
  "kernelspec": {
   "display_name": "venv",
   "language": "python",
   "name": "python3"
  },
  "language_info": {
   "codemirror_mode": {
    "name": "ipython",
    "version": 3
   },
   "file_extension": ".py",
   "mimetype": "text/x-python",
   "name": "python",
   "nbconvert_exporter": "python",
   "pygments_lexer": "ipython3",
   "version": "3.8.6"
  }
 },
 "nbformat": 4,
 "nbformat_minor": 4
}
