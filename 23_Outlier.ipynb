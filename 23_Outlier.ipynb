{
 "cells": [
  {
   "cell_type": "markdown",
   "metadata": {
    "id": "rDwYCeIX-kH1"
   },
   "source": [
    "# Handling Outliers\n",
    "* Statistically, outliers are data points that significantly differ from other observations.\n",
    "* Outliers can cause issues in statistical analysis (affecting mean and standard deviation)."
   ]
  },
  {
   "cell_type": "markdown",
   "metadata": {},
   "source": [
    "![purple-divider](https://user-images.githubusercontent.com/7065401/52071927-c1cd7100-2562-11e9-908a-dde91ba14e59.png)\n",
    "\n",
    "# HandsOn!"
   ]
  },
  {
   "cell_type": "code",
   "execution_count": 2,
   "metadata": {
    "id": "84pWAY6R-kH6"
   },
   "outputs": [],
   "source": [
    "import pandas as pd\n",
    "import numpy as np"
   ]
  },
  {
   "cell_type": "markdown",
   "metadata": {
    "id": "SNqVictr-kH5"
   },
   "source": [
    "# Checking for Outliers\n",
    "* 1. Values outside the range of [-1.5 * IQR ~ 1.5 * IQR].\n",
    "* 2. Values outside the 5th ~ 95th percentile range."
   ]
  },
  {
   "cell_type": "code",
   "execution_count": 3,
   "metadata": {
    "colab": {
     "base_uri": "https://localhost:8080/"
    },
    "id": "-kn2Fs1h-kIA",
    "outputId": "b9953cda-1fa2-4b59-f05e-42d42c9409b3"
   },
   "outputs": [
    {
     "data": {
      "text/plain": [
       "count    11.000000\n",
       "mean     24.363636\n",
       "std      23.589289\n",
       "min       1.000000\n",
       "25%       5.500000\n",
       "50%      23.000000\n",
       "75%      34.000000\n",
       "max      78.000000\n",
       "dtype: float64"
      ]
     },
     "execution_count": 3,
     "metadata": {},
     "output_type": "execute_result"
    }
   ],
   "source": [
    "# random data including outliers\n",
    "x = pd.Series([23, 1, 3, 5, 34, 6, 32, 7, 45, 34, 78])\n",
    "x.describe()"
   ]
  },
  {
   "cell_type": "markdown",
   "metadata": {
    "id": "Dpj-hGKd-kIF"
   },
   "source": [
    "## 1. Using IQR\n",
    "Statistically, values outside the range of [Q1 - 1.5 * IQR ~ Q3 + 1.5 * IQR] are typically considered outliers."
   ]
  },
  {
   "cell_type": "code",
   "execution_count": 4,
   "metadata": {
    "id": "Xx8rgePS-kIF"
   },
   "outputs": [],
   "source": [
    "# function to return index of outliers\n",
    "\n",
    "\n",
    "def idx_of_outliers(x):\n",
    "    q1, q3 = np.percentile(x, [25, 75])\n",
    "    IQR = q3 - q1\n",
    "    lower_bound = q1 - [IQR * 1.5]\n",
    "    upper_bound = q3 + [IQR * 1.5]\n",
    "    return np.where((x > upper_bound) | (x < lower_bound))"
   ]
  },
  {
   "cell_type": "code",
   "execution_count": 5,
   "metadata": {
    "colab": {
     "base_uri": "https://localhost:8080/"
    },
    "id": "CGDAGfBe-kIJ",
    "outputId": "8c58f0e3-cd33-487a-fd80-ccef333ea8b9"
   },
   "outputs": [
    {
     "data": {
      "text/plain": [
       "(array([10]),)"
      ]
     },
     "execution_count": 5,
     "metadata": {},
     "output_type": "execute_result"
    }
   ],
   "source": [
    "idx_of_outliers(x.values)"
   ]
  },
  {
   "cell_type": "markdown",
   "metadata": {
    "id": "vt8oihUU-kIM"
   },
   "source": [
    "## 2. Values outside the 5th ~ 95th percentile range"
   ]
  },
  {
   "cell_type": "code",
   "execution_count": 6,
   "metadata": {
    "id": "1hkTVIng-kIN",
    "outputId": "74552776-5415-4810-afa4-280e4bc48bd6"
   },
   "outputs": [
    {
     "name": "stdout",
     "output_type": "stream",
     "text": [
      "5th percentile:  2.0\n",
      "95th percentile:  61.5\n"
     ]
    }
   ],
   "source": [
    "print(\"5th percentile: \", x.quantile(q=0.05))\n",
    "print(\"95th percentile: \", x.quantile(q=0.95))"
   ]
  },
  {
   "cell_type": "code",
   "execution_count": 7,
   "metadata": {
    "id": "dYfJhoI9-kIQ",
    "outputId": "78f0bd65-ac34-4312-a826-4f112a9b0d69"
   },
   "outputs": [
    {
     "data": {
      "text/plain": [
       "1      1\n",
       "10    78\n",
       "dtype: int64"
      ]
     },
     "execution_count": 7,
     "metadata": {},
     "output_type": "execute_result"
    }
   ],
   "source": [
    "x[(x < x.quantile(q=0.05)) | (x > x.quantile(q=0.95))]"
   ]
  },
  {
   "cell_type": "markdown",
   "metadata": {
    "id": "78WO0DCR-kIU"
   },
   "source": [
    "# Handling Outliers\n",
    "* Remove outlier values.\n",
    "* Transform values by methods such as applying the natural logarithm to reduce their magnitude.\n"
   ]
  },
  {
   "cell_type": "code",
   "execution_count": 9,
   "metadata": {
    "id": "Ynd05g-B-kIU",
    "outputId": "008401cb-cf74-4e63-a790-a80fd92df81c"
   },
   "outputs": [
    {
     "data": {
      "text/html": [
       "<div>\n",
       "<style scoped>\n",
       "    .dataframe tbody tr th:only-of-type {\n",
       "        vertical-align: middle;\n",
       "    }\n",
       "\n",
       "    .dataframe tbody tr th {\n",
       "        vertical-align: top;\n",
       "    }\n",
       "\n",
       "    .dataframe thead th {\n",
       "        text-align: right;\n",
       "    }\n",
       "</style>\n",
       "<table border=\"1\" class=\"dataframe\">\n",
       "  <thead>\n",
       "    <tr style=\"text-align: right;\">\n",
       "      <th></th>\n",
       "      <th>Price</th>\n",
       "      <th>Bedrooms</th>\n",
       "      <th>Square_Feets</th>\n",
       "    </tr>\n",
       "  </thead>\n",
       "  <tbody>\n",
       "    <tr>\n",
       "      <th>0</th>\n",
       "      <td>534433</td>\n",
       "      <td>2.0</td>\n",
       "      <td>1500</td>\n",
       "    </tr>\n",
       "    <tr>\n",
       "      <th>1</th>\n",
       "      <td>392333</td>\n",
       "      <td>3.5</td>\n",
       "      <td>2500</td>\n",
       "    </tr>\n",
       "    <tr>\n",
       "      <th>2</th>\n",
       "      <td>293222</td>\n",
       "      <td>2.0</td>\n",
       "      <td>1500</td>\n",
       "    </tr>\n",
       "    <tr>\n",
       "      <th>3</th>\n",
       "      <td>4322032</td>\n",
       "      <td>116.0</td>\n",
       "      <td>48000</td>\n",
       "    </tr>\n",
       "  </tbody>\n",
       "</table>\n",
       "</div>"
      ],
      "text/plain": [
       "     Price  Bedrooms  Square_Feets\n",
       "0   534433       2.0          1500\n",
       "1   392333       3.5          2500\n",
       "2   293222       2.0          1500\n",
       "3  4322032     116.0         48000"
      ]
     },
     "execution_count": 9,
     "metadata": {},
     "output_type": "execute_result"
    }
   ],
   "source": [
    "# given random house data\n",
    "houses = pd.DataFrame()\n",
    "houses[\"Price\"] = [534433, 392333, 293222, 4322032]\n",
    "houses[\"Bedrooms\"] = [2, 3.5, 2, 116]\n",
    "houses[\"Square_Feets\"] = [1500, 2500, 1500, 48000]\n",
    "houses"
   ]
  },
  {
   "cell_type": "code",
   "execution_count": 10,
   "metadata": {
    "id": "BCXHvYoT-kIa",
    "outputId": "d68b812a-4bc6-4688-a188-d6f322fa548c"
   },
   "outputs": [
    {
     "data": {
      "text/html": [
       "<div>\n",
       "<style scoped>\n",
       "    .dataframe tbody tr th:only-of-type {\n",
       "        vertical-align: middle;\n",
       "    }\n",
       "\n",
       "    .dataframe tbody tr th {\n",
       "        vertical-align: top;\n",
       "    }\n",
       "\n",
       "    .dataframe thead th {\n",
       "        text-align: right;\n",
       "    }\n",
       "</style>\n",
       "<table border=\"1\" class=\"dataframe\">\n",
       "  <thead>\n",
       "    <tr style=\"text-align: right;\">\n",
       "      <th></th>\n",
       "      <th>Price</th>\n",
       "      <th>Bedrooms</th>\n",
       "      <th>Square_Feets</th>\n",
       "    </tr>\n",
       "  </thead>\n",
       "  <tbody>\n",
       "    <tr>\n",
       "      <th>count</th>\n",
       "      <td>4.000000e+00</td>\n",
       "      <td>4.000000</td>\n",
       "      <td>4.000000</td>\n",
       "    </tr>\n",
       "    <tr>\n",
       "      <th>mean</th>\n",
       "      <td>1.385505e+06</td>\n",
       "      <td>30.875000</td>\n",
       "      <td>13375.000000</td>\n",
       "    </tr>\n",
       "    <tr>\n",
       "      <th>std</th>\n",
       "      <td>1.960186e+06</td>\n",
       "      <td>56.754405</td>\n",
       "      <td>23088.146309</td>\n",
       "    </tr>\n",
       "    <tr>\n",
       "      <th>min</th>\n",
       "      <td>2.932220e+05</td>\n",
       "      <td>2.000000</td>\n",
       "      <td>1500.000000</td>\n",
       "    </tr>\n",
       "    <tr>\n",
       "      <th>25%</th>\n",
       "      <td>3.675552e+05</td>\n",
       "      <td>2.000000</td>\n",
       "      <td>1500.000000</td>\n",
       "    </tr>\n",
       "    <tr>\n",
       "      <th>50%</th>\n",
       "      <td>4.633830e+05</td>\n",
       "      <td>2.750000</td>\n",
       "      <td>2000.000000</td>\n",
       "    </tr>\n",
       "    <tr>\n",
       "      <th>75%</th>\n",
       "      <td>1.481333e+06</td>\n",
       "      <td>31.625000</td>\n",
       "      <td>13875.000000</td>\n",
       "    </tr>\n",
       "    <tr>\n",
       "      <th>max</th>\n",
       "      <td>4.322032e+06</td>\n",
       "      <td>116.000000</td>\n",
       "      <td>48000.000000</td>\n",
       "    </tr>\n",
       "  </tbody>\n",
       "</table>\n",
       "</div>"
      ],
      "text/plain": [
       "              Price    Bedrooms  Square_Feets\n",
       "count  4.000000e+00    4.000000      4.000000\n",
       "mean   1.385505e+06   30.875000  13375.000000\n",
       "std    1.960186e+06   56.754405  23088.146309\n",
       "min    2.932220e+05    2.000000   1500.000000\n",
       "25%    3.675552e+05    2.000000   1500.000000\n",
       "50%    4.633830e+05    2.750000   2000.000000\n",
       "75%    1.481333e+06   31.625000  13875.000000\n",
       "max    4.322032e+06  116.000000  48000.000000"
      ]
     },
     "execution_count": 10,
     "metadata": {},
     "output_type": "execute_result"
    }
   ],
   "source": [
    "houses.describe()"
   ]
  },
  {
   "cell_type": "markdown",
   "metadata": {},
   "source": [
    "## 1. The simplest method to handle outliers is to remove them."
   ]
  },
  {
   "cell_type": "code",
   "execution_count": null,
   "metadata": {
    "id": "7_fR9RYu-kIe",
    "outputId": "84434b77-4554-4933-c03d-c891cbe26b7a"
   },
   "outputs": [
    {
     "data": {
      "text/html": [
       "<div>\n",
       "<style scoped>\n",
       "    .dataframe tbody tr th:only-of-type {\n",
       "        vertical-align: middle;\n",
       "    }\n",
       "\n",
       "    .dataframe tbody tr th {\n",
       "        vertical-align: top;\n",
       "    }\n",
       "\n",
       "    .dataframe thead th {\n",
       "        text-align: right;\n",
       "    }\n",
       "</style>\n",
       "<table border=\"1\" class=\"dataframe\">\n",
       "  <thead>\n",
       "    <tr style=\"text-align: right;\">\n",
       "      <th></th>\n",
       "      <th>Price</th>\n",
       "      <th>Bedrooms</th>\n",
       "      <th>Square_Feets</th>\n",
       "    </tr>\n",
       "  </thead>\n",
       "  <tbody>\n",
       "    <tr>\n",
       "      <th>0</th>\n",
       "      <td>534433</td>\n",
       "      <td>2.0</td>\n",
       "      <td>1500</td>\n",
       "    </tr>\n",
       "    <tr>\n",
       "      <th>1</th>\n",
       "      <td>392333</td>\n",
       "      <td>3.5</td>\n",
       "      <td>2500</td>\n",
       "    </tr>\n",
       "    <tr>\n",
       "      <th>2</th>\n",
       "      <td>293222</td>\n",
       "      <td>2.0</td>\n",
       "      <td>1500</td>\n",
       "    </tr>\n",
       "  </tbody>\n",
       "</table>\n",
       "</div>"
      ],
      "text/plain": [
       "    Price  Bedrooms  Square_Feets\n",
       "0  534433       2.0          1500\n",
       "1  392333       3.5          2500\n",
       "2  293222       2.0          1500"
      ]
     },
     "execution_count": 11,
     "metadata": {},
     "output_type": "execute_result"
    }
   ],
   "source": [
    "q1 = houses[\"Bedrooms\"].quantile(0.25)\n",
    "q3 = houses[\"Bedrooms\"].quantile(0.75)\n",
    "iqr = q3 - q1\n",
    "# Apply filter with respect to IQR\n",
    "filter = (houses[\"Bedrooms\"] >= q1 - 1.5 * iqr) & (houses[\"Bedrooms\"] <= q3 + 1.5 * iqr)\n",
    "houses.loc[filter]"
   ]
  },
  {
   "cell_type": "markdown",
   "metadata": {
    "id": "phy85E9f-kIi"
   },
   "source": [
    "## 2. Transform the column to reduce the impact of outliers."
   ]
  },
  {
   "cell_type": "code",
   "execution_count": 12,
   "metadata": {
    "id": "5qolKa-N-kIj",
    "outputId": "60e793bc-c380-4d8d-dbe8-8bc0fd0b1668"
   },
   "outputs": [
    {
     "data": {
      "text/html": [
       "<div>\n",
       "<style scoped>\n",
       "    .dataframe tbody tr th:only-of-type {\n",
       "        vertical-align: middle;\n",
       "    }\n",
       "\n",
       "    .dataframe tbody tr th {\n",
       "        vertical-align: top;\n",
       "    }\n",
       "\n",
       "    .dataframe thead th {\n",
       "        text-align: right;\n",
       "    }\n",
       "</style>\n",
       "<table border=\"1\" class=\"dataframe\">\n",
       "  <thead>\n",
       "    <tr style=\"text-align: right;\">\n",
       "      <th></th>\n",
       "      <th>Price</th>\n",
       "      <th>Bedrooms</th>\n",
       "      <th>Square_Feets</th>\n",
       "      <th>Log_Square_Feets</th>\n",
       "    </tr>\n",
       "  </thead>\n",
       "  <tbody>\n",
       "    <tr>\n",
       "      <th>0</th>\n",
       "      <td>534433</td>\n",
       "      <td>2.0</td>\n",
       "      <td>1500</td>\n",
       "      <td>7.313220</td>\n",
       "    </tr>\n",
       "    <tr>\n",
       "      <th>1</th>\n",
       "      <td>392333</td>\n",
       "      <td>3.5</td>\n",
       "      <td>2500</td>\n",
       "      <td>7.824046</td>\n",
       "    </tr>\n",
       "    <tr>\n",
       "      <th>2</th>\n",
       "      <td>293222</td>\n",
       "      <td>2.0</td>\n",
       "      <td>1500</td>\n",
       "      <td>7.313220</td>\n",
       "    </tr>\n",
       "    <tr>\n",
       "      <th>3</th>\n",
       "      <td>4322032</td>\n",
       "      <td>116.0</td>\n",
       "      <td>48000</td>\n",
       "      <td>10.778956</td>\n",
       "    </tr>\n",
       "  </tbody>\n",
       "</table>\n",
       "</div>"
      ],
      "text/plain": [
       "     Price  Bedrooms  Square_Feets  Log_Square_Feets\n",
       "0   534433       2.0          1500          7.313220\n",
       "1   392333       3.5          2500          7.824046\n",
       "2   293222       2.0          1500          7.313220\n",
       "3  4322032     116.0         48000         10.778956"
      ]
     },
     "execution_count": 12,
     "metadata": {},
     "output_type": "execute_result"
    }
   ],
   "source": [
    "# to logmetric\n",
    "\n",
    "houses[\"Log_Square_Feets\"] = [np.log(x) for x in houses[\"Square_Feets\"]]\n",
    "houses"
   ]
  },
  {
   "cell_type": "markdown",
   "metadata": {
    "id": "4duRunOp-kIn"
   },
   "source": [
    "# Conclusion\n",
    "* There is no single correct method for identifying and handling outliers.  \n",
    "* Consider various approaches and choose the most appropriate one.\n"
   ]
  }
 ],
 "metadata": {
  "colab": {
   "name": "02Outlier.ipynb",
   "provenance": []
  },
  "kernelspec": {
   "display_name": "venv",
   "language": "python",
   "name": "python3"
  },
  "language_info": {
   "codemirror_mode": {
    "name": "ipython",
    "version": 3
   },
   "file_extension": ".py",
   "mimetype": "text/x-python",
   "name": "python",
   "nbconvert_exporter": "python",
   "pygments_lexer": "ipython3",
   "version": "3.8.6"
  }
 },
 "nbformat": 4,
 "nbformat_minor": 1
}
