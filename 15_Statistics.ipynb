{
 "metadata": {
  "language_info": {
   "codemirror_mode": {
    "name": "ipython",
    "version": 3
   },
   "file_extension": ".py",
   "mimetype": "text/x-python",
   "name": "python",
   "nbconvert_exporter": "python",
   "pygments_lexer": "ipython3",
   "version": "3.8.3-final"
  },
  "orig_nbformat": 2,
  "kernelspec": {
   "name": "python3",
   "display_name": "Python 3"
  }
 },
 "nbformat": 4,
 "nbformat_minor": 2,
 "cells": [
  {
   "cell_type": "code",
   "execution_count": 28,
   "metadata": {},
   "outputs": [],
   "source": [
    "import os,sys\n",
    "import pandas as pd\n",
    "import numpy as np\n",
    "import matplotlib.pyplot as plt\n",
    "import seaborn as sns\n",
    "\n",
    "import scipy as sp\n",
    "from random import random\n",
    "from scipy.special import comb\n",
    "from scipy.integrate import quad\n",
    "from scipy import stats"
   ]
  },
  {
   "source": [
    "![green-divider](https://user-images.githubusercontent.com/7065401/52071924-c003ad80-2562-11e9-8297-1c6595f8a7ff.png)"
   ],
   "cell_type": "markdown",
   "metadata": {}
  },
  {
   "cell_type": "code",
   "execution_count": null,
   "metadata": {},
   "outputs": [],
   "source": [
    "# 올해 한 기업체 신입사원의 남녀 월급을 조사하기 위해 남자사원 15명, 여자원 14명의 표본을 추출하였다.\n",
    "# 남자 사원"
   ]
  },
  {
   "cell_type": "code",
   "execution_count": null,
   "metadata": {},
   "outputs": [],
   "source": [
    "# sp.stats.norm.cdf()\n",
    "# sp.stats.norm.rvs()\n"
   ]
  },
  {
   "cell_type": "code",
   "execution_count": 8,
   "metadata": {},
   "outputs": [
    {
     "output_type": "execute_result",
     "data": {
      "text/plain": [
       "0.9750021048517795"
      ]
     },
     "metadata": {},
     "execution_count": 8
    }
   ],
   "source": [
    "sp.stats.norm.cdf(1.96)"
   ]
  },
  {
   "source": [
    "![green-divider](https://user-images.githubusercontent.com/7065401/52071924-c003ad80-2562-11e9-8297-1c6595f8a7ff.png)"
   ],
   "cell_type": "markdown",
   "metadata": {}
  },
  {
   "cell_type": "code",
   "execution_count": null,
   "metadata": {},
   "outputs": [],
   "source": [
    "# [예제 : 아래에 대한 가설검정을 수행하여라 ]\n",
    "#  다음 : 추정에 따른 검증 -표준편차의 변화한 값이 유의할까?\n",
    "#  A사 K모델 자동차의 연비는 평균 12.5(km/l), 표준편차 0.5(km/l)로\n",
    "#  알려져 있는데, 새로 개발된 엔진을 장착한 40대의 자동차 연비를\n",
    "#  측정한 결과 표본평균이 12.64(km/l)로 나왔다.\n",
    "\n",
    "# 1. 기존 연비와 오차범위에서 동일하다고 말할 수 있는가? 유의수준 5%로 가설검정해보자 \n",
    "# H0 : mu  = 12.5 \n",
    "# H1 : mu != 12.5"
   ]
  },
  {
   "cell_type": "code",
   "execution_count": 10,
   "metadata": {},
   "outputs": [],
   "source": [
    "mu=12.5\n",
    "se=0.5\n",
    "n=40\n",
    "xbar=12.64"
   ]
  },
  {
   "cell_type": "code",
   "execution_count": 11,
   "metadata": {},
   "outputs": [
    {
     "output_type": "execute_result",
     "data": {
      "text/plain": [
       "1.7708754896942995"
      ]
     },
     "metadata": {},
     "execution_count": 11
    }
   ],
   "source": [
    "Z=(xbar-mu)/(se/np.sqrt(n))\n",
    "Z"
   ]
  },
  {
   "cell_type": "code",
   "execution_count": 14,
   "metadata": {},
   "outputs": [
    {
     "output_type": "execute_result",
     "data": {
      "text/plain": [
       "0.9617092954821657"
      ]
     },
     "metadata": {},
     "execution_count": 14
    }
   ],
   "source": [
    "zalpha=sp.stats.norm.cdf(Z)\n",
    "zalpha"
   ]
  },
  {
   "cell_type": "code",
   "execution_count": 18,
   "metadata": {},
   "outputs": [
    {
     "output_type": "execute_result",
     "data": {
      "text/plain": [
       "0.07658140903566868"
      ]
     },
     "metadata": {},
     "execution_count": 18
    }
   ],
   "source": [
    "P=(1-zalpha)*2\n",
    "P"
   ]
  },
  {
   "cell_type": "code",
   "execution_count": 20,
   "metadata": {},
   "outputs": [
    {
     "output_type": "execute_result",
     "data": {
      "text/plain": [
       "0.07658140903566876"
      ]
     },
     "metadata": {},
     "execution_count": 20
    }
   ],
   "source": [
    "sp.stats.norm().sf(np.abs(Z))*2"
   ]
  },
  {
   "source": [
    "![green-divider](https://user-images.githubusercontent.com/7065401/52071924-c003ad80-2562-11e9-8297-1c6595f8a7ff.png)"
   ],
   "cell_type": "markdown",
   "metadata": {}
  },
  {
   "cell_type": "code",
   "execution_count": null,
   "metadata": {},
   "outputs": [],
   "source": [
    "# H0 치킨의 중량은 625g이다.\n",
    "# H1: 치킨은 625g이 아니다.  mu != mu0  치킨문제\n",
    "# 유의수준 5%로 검증하자"
   ]
  },
  {
   "cell_type": "code",
   "execution_count": 79,
   "metadata": {},
   "outputs": [],
   "source": [
    "xbar=626\n",
    "mu=625\n",
    "var=10\n",
    "se=np.sqrt(var)\n",
    "n=50\n",
    "samples=np.random.normal(loc=xbar,scale=se,size=n)"
   ]
  },
  {
   "cell_type": "code",
   "execution_count": 80,
   "metadata": {},
   "outputs": [
    {
     "output_type": "execute_result",
     "data": {
      "text/plain": [
       "2.23606797749979"
      ]
     },
     "metadata": {},
     "execution_count": 80
    }
   ],
   "source": [
    "Z=(xbar-mu)/(se/np.sqrt(n))\n",
    "Z"
   ]
  },
  {
   "cell_type": "code",
   "execution_count": 81,
   "metadata": {},
   "outputs": [
    {
     "output_type": "execute_result",
     "data": {
      "text/plain": [
       "0.9873263406612659"
      ]
     },
     "metadata": {},
     "execution_count": 81
    }
   ],
   "source": [
    "#alpha가 0.987로  기각역 0.975를 넘어감\n",
    "alpha=sp.stats.norm.cdf(Z)\n",
    "alpha"
   ]
  },
  {
   "cell_type": "code",
   "execution_count": 91,
   "metadata": {},
   "outputs": [
    {
     "output_type": "execute_result",
     "data": {
      "text/plain": [
       "0.0253473186774682"
      ]
     },
     "metadata": {},
     "execution_count": 91
    }
   ],
   "source": [
    "res1=(1-alpha)*2 # p-value\n",
    "res1"
   ]
  },
  {
   "cell_type": "code",
   "execution_count": 92,
   "metadata": {},
   "outputs": [
    {
     "output_type": "execute_result",
     "data": {
      "text/plain": [
       "0.025347318677468252"
      ]
     },
     "metadata": {},
     "execution_count": 92
    }
   ],
   "source": [
    "res2=sp.stats.norm().sf(np.abs(Z))*2 # other way to calculate p-val\n",
    "res2"
   ]
  },
  {
   "cell_type": "code",
   "execution_count": 72,
   "metadata": {},
   "outputs": [],
   "source": [
    "from statsmodels.stats.weightstats import ztest"
   ]
  },
  {
   "cell_type": "code",
   "execution_count": 85,
   "metadata": {},
   "outputs": [],
   "source": [
    "target_data=np.random.normal(xbar,se,n)"
   ]
  },
  {
   "cell_type": "code",
   "execution_count": 84,
   "metadata": {},
   "outputs": [
    {
     "output_type": "execute_result",
     "data": {
      "text/plain": [
       "625.9988220953604"
      ]
     },
     "metadata": {},
     "execution_count": 84
    }
   ],
   "source": [
    "target_data.mean()"
   ]
  },
  {
   "cell_type": "code",
   "execution_count": 90,
   "metadata": {},
   "outputs": [
    {
     "output_type": "execute_result",
     "data": {
      "text/plain": [
       "(2.367963022333537, 0.01788632346608365)"
      ]
     },
     "metadata": {},
     "execution_count": 90
    }
   ],
   "source": [
    "samples=np.random.normal(loc=xbar,scale=se,size=n)\n",
    "zval,pval=ztest(target_data,value=mu,alternative='two-sided')\n",
    "(zval,pval)"
   ]
  },
  {
   "source": [
    "![green-divider](https://user-images.githubusercontent.com/7065401/52071924-c003ad80-2562-11e9-8297-1c6595f8a7ff.png)"
   ],
   "cell_type": "markdown",
   "metadata": {}
  },
  {
   "cell_type": "code",
   "execution_count": 105,
   "metadata": {},
   "outputs": [],
   "source": [
    "# H0: 도넛의 평균칼로리가 100이다.\n",
    "# H1: 아니다. 100보다 작은 것 같다.\n",
    "# 유의수준 5%\n",
    "mu=100\n",
    "n=64\n",
    "xbar=95\n",
    "se=10"
   ]
  },
  {
   "cell_type": "code",
   "execution_count": 106,
   "metadata": {},
   "outputs": [
    {
     "output_type": "execute_result",
     "data": {
      "text/plain": [
       "-4.0"
      ]
     },
     "metadata": {},
     "execution_count": 106
    }
   ],
   "source": [
    "Z=(xbar-mu)/(se/np.sqrt(n))\n",
    "Z"
   ]
  },
  {
   "cell_type": "code",
   "execution_count": 107,
   "metadata": {},
   "outputs": [
    {
     "output_type": "execute_result",
     "data": {
      "text/plain": [
       "3.167124183311986e-05"
      ]
     },
     "metadata": {},
     "execution_count": 107
    }
   ],
   "source": [
    "alpha=sp.stats.norm.cdf(Z)\n",
    "alpha"
   ]
  },
  {
   "cell_type": "code",
   "execution_count": 112,
   "metadata": {},
   "outputs": [
    {
     "output_type": "execute_result",
     "data": {
      "text/plain": [
       "3.167124183311986e-05"
      ]
     },
     "metadata": {},
     "execution_count": 112
    }
   ],
   "source": [
    "pval1=alpha # H1<H0으로 검정하는 것이기 때문에, 그대로 간다\n",
    "pval1"
   ]
  },
  {
   "cell_type": "code",
   "execution_count": 113,
   "metadata": {},
   "outputs": [
    {
     "output_type": "execute_result",
     "data": {
      "text/plain": [
       "3.167124183311986e-05"
      ]
     },
     "metadata": {},
     "execution_count": 113
    }
   ],
   "source": [
    "pval2=sp.stats.norm().sf(np.abs(Z)) # other way to calculate p-val\n",
    "pval2"
   ]
  },
  {
   "cell_type": "code",
   "execution_count": 138,
   "metadata": {},
   "outputs": [
    {
     "output_type": "execute_result",
     "data": {
      "text/plain": [
       "(-500.33310499490074, 0.0)"
      ]
     },
     "metadata": {},
     "execution_count": 138
    }
   ],
   "source": [
    "samples=np.random.normal(loc=xbar,scale=se,size=1000000)\n",
    "zval,pval=ztest(samples,value=mu,alternative='smaller')\n",
    "(zval,pval)"
   ]
  },
  {
   "source": [
    "![green-divider](https://user-images.githubusercontent.com/7065401/52071924-c003ad80-2562-11e9-8297-1c6595f8a7ff.png)"
   ],
   "cell_type": "markdown",
   "metadata": {}
  },
  {
   "source": [
    "# TWO VARIABLES"
   ],
   "cell_type": "markdown",
   "metadata": {}
  },
  {
   "cell_type": "code",
   "execution_count": null,
   "metadata": {},
   "outputs": [],
   "source": []
  }
 ]
}