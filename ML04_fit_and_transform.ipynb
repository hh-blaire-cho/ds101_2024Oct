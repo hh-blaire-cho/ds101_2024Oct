{
 "cells": [
  {
   "cell_type": "markdown",
   "metadata": {},
   "source": [
    "### Difference Between `fit` and `fit_transform`\n",
    "\n",
    "`fit` and `fit_transform` are methods in Scikit-learn commonly used for model training and data transformation. Here's a comparison and their use cases:\n",
    "\n",
    "| **Method**         | **Description**                             | **Use Case**                         |\n",
    "|---------------------|---------------------------------------------|---------------------------------------|\n",
    "| **`fit`**          | Learns from data and computes parameters required for transformation. | Used to compute statistics (e.g., mean, variance). |\n",
    "| **`fit_transform`**| Combines `fit` and `transform` in one step: it learns from the data and applies the transformation. | Used to both learn and transform training data in one step. |\n",
    "\n",
    "---\n",
    "\n",
    "### Explanation of Each Method"
   ]
  },
  {
   "cell_type": "markdown",
   "metadata": {},
   "source": [
    "#### 1. **`fit`**\n",
    "- **Purpose**: Analyze the data and learn necessary statistics or parameters for transformation.\n",
    "- **Output**: Returns the learned object itself but does not transform the data.\n",
    "- **When to Use**: Use this when you only need to learn parameters from the training dataset (e.g., mean, variance for scaling).\n",
    "  \n",
    "```python\n",
    "from sklearn.preprocessing import StandardScaler\n",
    "\n",
    "scaler = StandardScaler()\n",
    "scaler.fit(X)  # Learns mean and standard deviation but does not modify X."
   ]
  },
  {
   "cell_type": "markdown",
   "metadata": {},
   "source": [
    "#### 2. **`fit_transform` **\n",
    "- **Purpose**: Performs fit (learns the statistics) and then immediately applies the transformation (transform) to the data.\n",
    "- **Output**: Returns the transformed dataset.\n",
    "- **When to Use**: Use this to combine the steps of learning and transforming, especially for the training dataset.\n",
    "\n",
    "```python\n",
    "X_scaled = scaler.fit_transform(X)  # Learns parameters and transforms X."
   ]
  },
  {
   "cell_type": "markdown",
   "metadata": {},
   "source": [
    "# comparision examples:"
   ]
  },
  {
   "cell_type": "code",
   "execution_count": 1,
   "metadata": {},
   "outputs": [
    {
     "name": "stdout",
     "output_type": "stream",
     "text": [
      "[[-1.22474487 -1.22474487]\n",
      " [ 0.          0.        ]\n",
      " [ 1.22474487  1.22474487]]\n",
      "[[-1.22474487 -1.22474487]\n",
      " [ 0.          0.        ]\n",
      " [ 1.22474487  1.22474487]]\n"
     ]
    }
   ],
   "source": [
    "from sklearn.preprocessing import StandardScaler\n",
    "\n",
    "# Example Data\n",
    "X = [[1, 2], [3, 4], [5, 6]]\n",
    "\n",
    "# Using `fit` and `transform` separately\n",
    "scaler = StandardScaler()\n",
    "scaler.fit(X)          # Learns mean and standard deviation.\n",
    "X_scaled = scaler.transform(X)  # Transforms the data using learned parameters.\n",
    "print(X_scaled)\n",
    "\n",
    "# Using `fit_transform` directly\n",
    "X_scaled_2 = scaler.fit_transform(X)  # Combines learning and transformation.\n",
    "print(X_scaled_2)\n"
   ]
  }
 ],
 "metadata": {
  "kernelspec": {
   "display_name": "venv",
   "language": "python",
   "name": "python3"
  },
  "language_info": {
   "codemirror_mode": {
    "name": "ipython",
    "version": 3
   },
   "file_extension": ".py",
   "mimetype": "text/x-python",
   "name": "python",
   "nbconvert_exporter": "python",
   "pygments_lexer": "ipython3",
   "version": "3.8.6"
  }
 },
 "nbformat": 4,
 "nbformat_minor": 2
}
