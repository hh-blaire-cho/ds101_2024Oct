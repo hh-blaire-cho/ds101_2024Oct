{
 "cells": [
  {
   "cell_type": "markdown",
   "metadata": {
    "id": "dNCoOxm_OUei"
   },
   "source": [
    "# Discretization of Continuous Numerical Data\n",
    "\n",
    "* Numerical data is divided into distinct intervals.\n",
    "* Through discretization, numerical features can be converted into categorical data.\n",
    "* `Discretization` refers to the process of transforming a continuous variable into a variable with two or more categories."
   ]
  },
  {
   "cell_type": "code",
   "execution_count": 29,
   "metadata": {
    "id": "cDjbgYSuOUe8",
    "scrolled": true
   },
   "outputs": [],
   "source": [
    "import numpy as np\n",
    "import pandas as pd"
   ]
  },
  {
   "cell_type": "code",
   "execution_count": 30,
   "metadata": {
    "id": "LQyR_UGAOUfQ"
   },
   "outputs": [],
   "source": [
    "# given data\n",
    "age = np.array([[6],\n",
    "                [12],\n",
    "                [20],\n",
    "                [36],\n",
    "                [65]\n",
    "                ])"
   ]
  },
  {
   "cell_type": "markdown",
   "metadata": {
    "id": "LeQRUCMDOUfj"
   },
   "source": [
    "### np.digitize()\n",
    "A method for dividing numerical features based on multiple threshold values.\n",
    "* The input value for the `bins` parameter represents the left boundary of each interval.\n",
    "* The data is divided into 4 intervals: [~ 20), [20, 30), [30, 64), [64 ~).\n",
    "* You can change this behavior by setting `right = True`.\n"
   ]
  },
  {
   "cell_type": "code",
   "execution_count": 31,
   "metadata": {
    "id": "6AsABH3TOUfq",
    "outputId": "f1445b50-e888-4d23-8aaa-2ca9f94ce5cd"
   },
   "outputs": [
    {
     "data": {
      "text/plain": [
       "array([[0],\n",
       "       [0],\n",
       "       [1],\n",
       "       [2],\n",
       "       [3]])"
      ]
     },
     "execution_count": 31,
     "metadata": {},
     "output_type": "execute_result"
    }
   ],
   "source": [
    "np.digitize(age, bins=[20, 30, 64])"
   ]
  },
  {
   "cell_type": "code",
   "execution_count": 32,
   "metadata": {
    "id": "oGcOp4BJOUgD",
    "outputId": "32987453-1a0b-478e-a837-18542ee5245e"
   },
   "outputs": [
    {
     "data": {
      "text/plain": [
       "array([[0],\n",
       "       [0],\n",
       "       [0],\n",
       "       [2],\n",
       "       [3]])"
      ]
     },
     "execution_count": 32,
     "metadata": {},
     "output_type": "execute_result"
    }
   ],
   "source": [
    "np.digitize(age, bins=[20,30,64], right=True)"
   ]
  },
  {
   "cell_type": "markdown",
   "metadata": {
    "id": "OQ9z2V5FOUgT"
   },
   "source": [
    "## np.where()\n",
    "\n",
    "Discretizing Continuous Variables using `np.where(condition, factor1, factor2, ...)`\n",
    "\n",
    "Can be used to discretize continuous variables by applying conditions and assigning corresponding factors.\n",
    "\n",
    "* `condition`: The condition to evaluate.\n",
    "* `factor1`: The value to assign when the condition is true.\n",
    "* `factor2`: The value to assign when the condition is false.\n"
   ]
  },
  {
   "cell_type": "code",
   "execution_count": 33,
   "metadata": {
    "id": "40_ysxCdOUgV",
    "outputId": "ba07008e-26f6-4735-976a-e839771e6d53"
   },
   "outputs": [
    {
     "data": {
      "text/plain": [
       "array(['low', 'low', 'low', 'low', 'low', 'low', 'low', 'low', 'low',\n",
       "       'low', 'low', 'low', 'low', 'low', 'low', 'low', 'low', 'low',\n",
       "       'low', 'low', 'low', 'low', 'low', 'low', 'low', 'low', 'low',\n",
       "       'low', 'low', 'low', 'low', 'low', 'low', 'low', 'low', 'low',\n",
       "       'low', 'low', 'low', 'low', 'low', 'low', 'low', 'low', 'low',\n",
       "       'low', 'low', 'low', 'low', 'low', 'high', 'high', 'high', 'high',\n",
       "       'high', 'high', 'high', 'high', 'high', 'high', 'high', 'high',\n",
       "       'high', 'high', 'high', 'high', 'high', 'high', 'high', 'high',\n",
       "       'high', 'high', 'high', 'high', 'high', 'high', 'high', 'high',\n",
       "       'high', 'high', 'high', 'high', 'high', 'high', 'high', 'high',\n",
       "       'high', 'high', 'high', 'high', 'high', 'high', 'high', 'high',\n",
       "       'high', 'high', 'high', 'high', 'high', 'high'], dtype='<U4')"
      ]
     },
     "execution_count": 33,
     "metadata": {},
     "output_type": "execute_result"
    }
   ],
   "source": [
    "x = np.arange(100)\n",
    "np.where(x >= x.mean(), 'high', 'low')"
   ]
  },
  {
   "cell_type": "markdown",
   "metadata": {
    "id": "otZMTx7POUgi"
   },
   "source": [
    "## sklearn.preprocessing.Binarizer()\n",
    "\n",
    "`sklearn.preprocessing.Binarizer()` is used to convert continuous variables into a binary variable with two values based on a specified threshold:\n",
    "\n",
    "* If the value is equal to or less than the threshold, it is converted to '0'.\n",
    "* If the value is greater than the threshold, it is converted to '1'.\n"
   ]
  },
  {
   "cell_type": "code",
   "execution_count": 34,
   "metadata": {
    "id": "8csllG7WOUgl"
   },
   "outputs": [],
   "source": [
    "from sklearn.preprocessing import Binarizer"
   ]
  },
  {
   "cell_type": "code",
   "execution_count": 35,
   "metadata": {
    "id": "r6rYrX-6OUg2",
    "outputId": "ba125555-78c0-4ffd-8f7a-424bb56b985f"
   },
   "outputs": [
    {
     "data": {
      "text/plain": [
       "array([[0],\n",
       "       [0],\n",
       "       [0],\n",
       "       [1],\n",
       "       [1]])"
      ]
     },
     "execution_count": 35,
     "metadata": {},
     "output_type": "execute_result"
    }
   ],
   "source": [
    "# 20을 기준으로 데이터를 2개 범주로 나눈다.\n",
    "binarizer = Binarizer(threshold=20)  \n",
    "binarizer.fit_transform(age)"
   ]
  },
  {
   "cell_type": "markdown",
   "metadata": {
    "id": "3MgAL0BOOUhV"
   },
   "source": [
    "## sklearn.preprocessing.KBinsDiscretizer() - New in version 0.20.\n",
    "\n",
    "This function divides continuous feature values into multiple intervals, and you can specify the number of intervals to divide into.\n",
    "\n",
    "* `encode`:\n",
    "    * The default value is 'onehot', which returns a sparse matrix with one-hot encoding.\n",
    "    * 'onehot-dense' returns a dense array.\n",
    "    * 'ordinal' returns sequential categorical values.\n",
    "* `strategy`:\n",
    "    * 'quantile': Ensures that each interval contains approximately the same number of data points.\n",
    "    * 'uniform': Ensures that each interval has the same width.\n",
    "* The values of the intervals can be checked using the `bin_edges_` attribute.\n"
   ]
  },
  {
   "cell_type": "code",
   "execution_count": 36,
   "metadata": {
    "id": "5sO6Sn4QOUhY"
   },
   "outputs": [],
   "source": [
    "from sklearn.preprocessing import KBinsDiscretizer"
   ]
  },
  {
   "cell_type": "code",
   "execution_count": 37,
   "metadata": {
    "id": "uSdHGbLLOUhm",
    "outputId": "51d3d006-f2c3-4f6b-8bce-684085bfd8b3"
   },
   "outputs": [
    {
     "data": {
      "text/plain": [
       "array([[0.],\n",
       "       [1.],\n",
       "       [2.],\n",
       "       [3.],\n",
       "       [3.]])"
      ]
     },
     "execution_count": 37,
     "metadata": {},
     "output_type": "execute_result"
    }
   ],
   "source": [
    "kb = KBinsDiscretizer(4, encode='ordinal', strategy='quantile')\n",
    "\n",
    "kb.fit_transform(age)"
   ]
  },
  {
   "cell_type": "code",
   "execution_count": 38,
   "metadata": {
    "id": "tqxZzWbAOUh2",
    "outputId": "f4b37a2f-775c-47fb-97bd-5b29dab02166"
   },
   "outputs": [
    {
     "data": {
      "text/plain": [
       "array([[1., 0., 0., 0.],\n",
       "       [0., 1., 0., 0.],\n",
       "       [0., 0., 1., 0.],\n",
       "       [0., 0., 0., 1.],\n",
       "       [0., 0., 0., 1.]])"
      ]
     },
     "execution_count": 38,
     "metadata": {},
     "output_type": "execute_result"
    }
   ],
   "source": [
    "kb = KBinsDiscretizer(4, encode='onehot-dense', strategy='quantile')\n",
    "\n",
    "kb.fit_transform(age)"
   ]
  },
  {
   "cell_type": "code",
   "execution_count": 39,
   "metadata": {
    "id": "0cBKTExYOUiE",
    "outputId": "205aa1e6-3c28-404d-b9a7-b102bba5e427"
   },
   "outputs": [
    {
     "name": "stderr",
     "output_type": "stream",
     "text": [
      "/Users/I751244/Desktop/mytutoring/ds101_2024Oct/venv/lib/python3.8/site-packages/sklearn/preprocessing/_discretization.py:248: FutureWarning: In version 1.5 onwards, subsample=200_000 will be used by default. Set subsample explicitly to silence this warning in the mean time. Set subsample=None to disable subsampling explicitly.\n",
      "  warnings.warn(\n"
     ]
    },
    {
     "data": {
      "text/plain": [
       "array([[1., 0., 0., 0.],\n",
       "       [1., 0., 0., 0.],\n",
       "       [1., 0., 0., 0.],\n",
       "       [0., 0., 1., 0.],\n",
       "       [0., 0., 0., 1.]])"
      ]
     },
     "execution_count": 39,
     "metadata": {},
     "output_type": "execute_result"
    }
   ],
   "source": [
    "kb = KBinsDiscretizer(4, encode='onehot-dense', strategy='uniform')\n",
    "\n",
    "kb.fit_transform(age)"
   ]
  },
  {
   "cell_type": "code",
   "execution_count": 40,
   "metadata": {
    "id": "3ZvMbSYrOUiZ",
    "outputId": "213ca95a-0278-41a3-d5b7-3cd9ba656775"
   },
   "outputs": [
    {
     "data": {
      "text/plain": [
       "array([array([ 6.  , 20.75, 35.5 , 50.25, 65.  ])], dtype=object)"
      ]
     },
     "execution_count": 40,
     "metadata": {},
     "output_type": "execute_result"
    }
   ],
   "source": [
    "# 구간의 값\n",
    "kb.bin_edges_"
   ]
  },
  {
   "cell_type": "markdown",
   "metadata": {
    "id": "V_MUPBRiOtIP"
   },
   "source": [
    "### Recall Discretization of Continuous Numerical Data\n",
    "\n",
    "* Numerical data is divided into distinct intervals.\n",
    "* Through discretization, numerical features can be converted into categorical data.\n",
    "* Discretization refers to the process of transforming a continuous variable into a variable with two or more categories.\n"
   ]
  },
  {
   "cell_type": "markdown",
   "metadata": {
    "id": "7FHEgzofOtIS"
   },
   "source": [
    "## Binning\n",
    "\n",
    "Binning allows converting numerical data into categorical data by categorizing the numeric values.\n",
    "\n",
    "* `pd.cut()`: Divides the data into intervals by specifying the boundary values for the intervals.\n",
    "* `pd.qcut()`: Divides the data into a specified number of intervals, ensuring each interval contains the same number of data points, without explicitly specifying the boundary values.\n"
   ]
  },
  {
   "cell_type": "markdown",
   "metadata": {
    "id": "HpbjKZW6OtIq"
   },
   "source": [
    "### pd.cut() - Equal-Length Buckets Categorization\n",
    "\n",
    "* The `pd.cut()` function allows easy categorization by taking numerical data and the interval boundaries as arguments.\n",
    "* The data segmented using `pd.cut()` is returned as a Series with a categorical data type.\n"
   ]
  },
  {
   "cell_type": "markdown",
   "metadata": {
    "id": "78b0cGR3OtIs"
   },
   "source": [
    "The `ages` data is returned as a categorical Series with 4 intervals, created by dividing the data into 5 equal-length buckets.\n"
   ]
  },
  {
   "cell_type": "code",
   "execution_count": 45,
   "metadata": {
    "id": "RRL3xkgAOtIu",
    "outputId": "5099fc8d-2f3e-446b-ab08-2148b8183675"
   },
   "outputs": [
    {
     "data": {
      "text/plain": [
       "[(18, 25], (18, 25], (18, 25], (25, 35], (18, 25], ..., (25, 35], (60, 100], (35, 60], (35, 60], (25, 35]]\n",
       "Length: 12\n",
       "Categories (4, interval[int64, right]): [(18, 25] < (25, 35] < (35, 60] < (60, 100]]"
      ]
     },
     "execution_count": 45,
     "metadata": {},
     "output_type": "execute_result"
    }
   ],
   "source": [
    "ages = [20, 22, 25, 27, 21, 23, 37, 31, 61, 45, 41, 32]\n",
    "bins = [18, 25, 35, 60, 100]\n",
    "\n",
    "# 18 ~ 25 / 25 ~ 35 / 35 ~ 60 / 60 ~ 100 이렇게 총 4구간\n",
    "cats = pd.cut(ages,bins)\n",
    "cats"
   ]
  },
  {
   "cell_type": "markdown",
   "metadata": {
    "id": "sMaWrDXGOtI5"
   },
   "source": [
    "By using `cats.codes`, you can see the integer index representing which interval each element of `ages` belongs to. \n",
    "For example, 20 belongs to the first interval (index 0), and 27 belongs to the second interval (index 1).\n"
   ]
  },
  {
   "cell_type": "code",
   "execution_count": 43,
   "metadata": {
    "id": "hzkgHW8eOtI8",
    "outputId": "ec254a18-3065-4808-90e6-628278c72875"
   },
   "outputs": [
    {
     "data": {
      "text/plain": [
       "array([0, 0, 0, 1, 0, 0, 2, 1, 3, 2, 2, 1], dtype=int8)"
      ]
     },
     "execution_count": 43,
     "metadata": {},
     "output_type": "execute_result"
    }
   ],
   "source": [
    "cats.codes"
   ]
  },
  {
   "cell_type": "markdown",
   "metadata": {
    "id": "kIfkyM-AOtJI"
   },
   "source": [
    "By using `cats.value_counts()`, you can check the count of elements in each interval.\n",
    "The `value_counts()` function helps to determine how many elements belong to each category in a categorical Series."
   ]
  },
  {
   "cell_type": "code",
   "execution_count": 46,
   "metadata": {
    "id": "y7N387quOtJK",
    "outputId": "c4b49553-2e1f-4cb7-ee6d-790d8deb9475"
   },
   "outputs": [
    {
     "data": {
      "text/plain": [
       "(18, 25]     5\n",
       "(25, 35]     3\n",
       "(35, 60]     3\n",
       "(60, 100]    1\n",
       "Name: count, dtype: int64"
      ]
     },
     "execution_count": 46,
     "metadata": {},
     "output_type": "execute_result"
    }
   ],
   "source": [
    "cats.value_counts()"
   ]
  },
  {
   "cell_type": "markdown",
   "metadata": {
    "id": "PUhpslVPOtJU"
   },
   "source": [
    "When calling `pd.cut()`, you can add the `labels = [list]` argument to specify custom category labels for each interval."
   ]
  },
  {
   "cell_type": "code",
   "execution_count": 47,
   "metadata": {
    "id": "WPdctLtoOtJW",
    "outputId": "94283a07-1902-479d-b286-440e3756a104"
   },
   "outputs": [
    {
     "data": {
      "text/plain": [
       "['Youth', 'Youth', 'Youth', 'YoungAdult', 'Youth', ..., 'YoungAdult', 'Senior', 'MiddleAged', 'MiddleAged', 'YoungAdult']\n",
       "Length: 12\n",
       "Categories (4, object): ['Youth' < 'YoungAdult' < 'MiddleAged' < 'Senior']"
      ]
     },
     "execution_count": 47,
     "metadata": {},
     "output_type": "execute_result"
    }
   ],
   "source": [
    "ages = [20, 22, 25, 27, 21, 23, 37, 31, 61, 45, 41, 32]\n",
    "bins = [18, 25, 35, 60, 100]\n",
    "group_names = [\"Youth\", \"YoungAdult\", \"MiddleAged\", \"Senior\"]\n",
    "\n",
    "pd.cut(ages, bins, labels= group_names)"
   ]
  },
  {
   "cell_type": "markdown",
   "metadata": {
    "id": "WGoWfXSQOtJr"
   },
   "source": [
    "#### Dividing into a Number of Intervals using pd.cut()\n",
    "\n",
    "Instead of providing the specific bin boundaries as the second argument, you can simply input the number of intervals (bins) you want to create. \n",
    "The function will automatically divide the data into equal intervals based on the minimum and maximum values of the data.\n"
   ]
  },
  {
   "cell_type": "code",
   "execution_count": null,
   "metadata": {
    "id": "ERPJgjx0OtJw",
    "outputId": "940a416e-ffa3-4605-806b-1eb66b7a9748",
    "scrolled": true
   },
   "outputs": [
    {
     "data": {
      "text/plain": [
       "array([0.6054644 , 0.24505555, 0.82241768, 0.87309714, 0.72911796,\n",
       "       0.02596842, 0.75510777, 0.0203316 , 0.18695353, 0.45116648,\n",
       "       0.72475169, 0.36621165, 0.67065616, 0.44007087, 0.49748874,\n",
       "       0.50314348, 0.22130711, 0.81164844, 0.63236241, 0.73136337])"
      ]
     },
     "execution_count": 18,
     "metadata": {},
     "output_type": "execute_result"
    }
   ],
   "source": [
    "data = np.random.rand(20)\n",
    "data"
   ]
  },
  {
   "cell_type": "code",
   "execution_count": 19,
   "metadata": {
    "id": "U8Q_tw9lOtKA",
    "outputId": "2f07c466-037e-4d41-f72b-d2f8cb06312e",
    "scrolled": true
   },
   "outputs": [
    {
     "data": {
      "text/plain": [
       "[(0.45, 0.66], (0.23, 0.45], (0.66, 0.87], (0.66, 0.87], (0.66, 0.87], ..., (0.45, 0.66], (0.019, 0.23], (0.66, 0.87], (0.45, 0.66], (0.66, 0.87]]\n",
       "Length: 20\n",
       "Categories (4, interval[float64, right]): [(0.019, 0.23] < (0.23, 0.45] < (0.45, 0.66] < (0.66, 0.87]]"
      ]
     },
     "execution_count": 19,
     "metadata": {},
     "output_type": "execute_result"
    }
   ],
   "source": [
    "# 20개의 data성분에 대해, 동일한 길이의 구간으로 4개를 나누었고, \n",
    "# 기준은 소수2번째 자리까지를 기준으로 한다.\n",
    "cat_data = pd.cut(data, 4, precision = 2 )\n",
    "cat_data"
   ]
  },
  {
   "cell_type": "code",
   "execution_count": 48,
   "metadata": {},
   "outputs": [
    {
     "data": {
      "text/plain": [
       "(0.019, 0.23]    4\n",
       "(0.23, 0.45]     3\n",
       "(0.45, 0.66]     5\n",
       "(0.66, 0.87]     8\n",
       "Name: count, dtype: int64"
      ]
     },
     "execution_count": 48,
     "metadata": {},
     "output_type": "execute_result"
    }
   ],
   "source": [
    "cat_data.value_counts()"
   ]
  },
  {
   "cell_type": "markdown",
   "metadata": {
    "id": "bT9ODxcUOtKL"
   },
   "source": [
    "### pd.qcut() - Equal-Size Buckets Categorization\n",
    "\n",
    "Pandas provides a function called `qcut()`.\n",
    "\n",
    "* It defines intervals based on the specified number of intervals (bins).\n",
    "* Unlike `pd.cut()`, which divides the data based on the minimum and maximum values, \n",
    "* `pd.qcut()` takes the data distribution into account and divides the data into intervals such that each interval contains an equal number of data points, using quantiles as the bin boundaries.\n"
   ]
  },
  {
   "cell_type": "code",
   "execution_count": 49,
   "metadata": {
    "id": "OWC8ofYJOtKM",
    "outputId": "7f7c6397-0c95-4fba-eb29-3ccd929086f3",
    "scrolled": true
   },
   "outputs": [
    {
     "data": {
      "text/plain": [
       "array([-0.34912103, -0.82275297, -1.03713009,  1.13109436,  0.80933678,\n",
       "        0.66246984,  0.6980762 ,  0.7334708 ,  0.3258062 , -0.79843347,\n",
       "        1.20716415,  1.33652198, -0.09499702,  1.20351958,  0.11837861,\n",
       "       -0.8047348 ,  1.37070788,  0.69336737, -0.18915024,  1.50274268,\n",
       "       -1.47504603, -0.0075665 , -1.25401873,  0.59201201, -2.01909322,\n",
       "       -0.83664949,  2.6792604 , -1.11383775,  1.29440623,  0.58176616,\n",
       "       -0.56155935, -1.27711394, -0.78523135, -0.73071255,  0.03741178,\n",
       "       -1.12374532, -0.18750311,  1.02515031, -0.28438394, -1.41937138,\n",
       "       -0.40980026, -0.25071172, -2.52227712, -0.68133111,  0.90837629,\n",
       "       -0.56007251,  0.37027034, -0.43474412, -1.72636334,  2.64008542,\n",
       "        0.39306375,  1.9153212 ,  1.25005798, -1.25321645, -0.25119106,\n",
       "        1.10821247,  0.09818287,  0.2097303 , -0.44229231,  0.84498387,\n",
       "       -0.95915654, -1.45279646, -1.84926377,  1.09359047, -0.9590751 ,\n",
       "        0.83045742,  0.44466298, -0.47401628, -0.47356698,  0.61658003,\n",
       "        0.20250048,  0.18883875, -0.23417599,  1.07919782, -0.28653684,\n",
       "       -1.61351622,  0.26523955, -0.21236127,  0.29501536, -0.97637848,\n",
       "       -0.01172063, -0.40885035, -1.7114332 , -0.61517918,  1.06018163,\n",
       "       -0.95861958, -0.29551439, -0.72473566,  0.45734885,  0.07410648,\n",
       "        1.17962421,  1.6546458 , -0.33534658, -0.29565123,  0.6105458 ,\n",
       "        1.04630297, -0.7238311 ,  1.59608846, -0.61087367, -0.61032563])"
      ]
     },
     "execution_count": 49,
     "metadata": {},
     "output_type": "execute_result"
    }
   ],
   "source": [
    "data2 = np.random.randn(100)\n",
    "data2"
   ]
  },
  {
   "cell_type": "code",
   "execution_count": 51,
   "metadata": {
    "id": "o2DzxkpzOtKW"
   },
   "outputs": [
    {
     "data": {
      "text/plain": [
       "[(-0.726, -0.188], (-2.5229999999999997, -0.726], (-2.5229999999999997, -0.726], (0.707, 2.679], (0.707, 2.679], ..., (0.707, 2.679], (-0.726, -0.188], (0.707, 2.679], (-0.726, -0.188], (-0.726, -0.188]]\n",
       "Length: 100\n",
       "Categories (4, interval[float64, right]): [(-2.5229999999999997, -0.726] < (-0.726, -0.188] < (-0.188, 0.707] < (0.707, 2.679]]"
      ]
     },
     "execution_count": 51,
     "metadata": {},
     "output_type": "execute_result"
    }
   ],
   "source": [
    "cats = pd.qcut(data2, 4)\n",
    "cats"
   ]
  },
  {
   "cell_type": "markdown",
   "metadata": {
    "id": "wkdHz7MmOtKj"
   },
   "source": [
    "* `cats = pd.qcut(data2, 4)` divides the data into 4 intervals.\n",
    "* Instead of simply dividing the range between the minimum and maximum values into four equal parts, it considers the distribution and splits the data into quartiles.\n",
    "* Unlike the `cut()` function, it cannot be said that each interval has the same length.\n"
   ]
  },
  {
   "cell_type": "code",
   "execution_count": 52,
   "metadata": {
    "id": "oxsyMD1qOtLF"
   },
   "outputs": [
    {
     "data": {
      "text/plain": [
       "(-2.5229999999999997, -0.726]    25\n",
       "(-0.726, -0.188]                 25\n",
       "(-0.188, 0.707]                  25\n",
       "(0.707, 2.679]                   25\n",
       "Name: count, dtype: int64"
      ]
     },
     "execution_count": 52,
     "metadata": {},
     "output_type": "execute_result"
    }
   ],
   "source": [
    "cats.value_counts()"
   ]
  }
 ],
 "metadata": {
  "colab": {
   "name": "03Discretize.ipynb",
   "provenance": []
  },
  "kernelspec": {
   "display_name": "venv",
   "language": "python",
   "name": "python3"
  },
  "language_info": {
   "codemirror_mode": {
    "name": "ipython",
    "version": 3
   },
   "file_extension": ".py",
   "mimetype": "text/x-python",
   "name": "python",
   "nbconvert_exporter": "python",
   "pygments_lexer": "ipython3",
   "version": "3.8.6"
  }
 },
 "nbformat": 4,
 "nbformat_minor": 1
}
