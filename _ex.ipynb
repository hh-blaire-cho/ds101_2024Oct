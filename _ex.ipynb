{
 "cells": [
  {
   "cell_type": "markdown",
   "metadata": {
    "colab_type": "text",
    "id": "HfoJcGcsttAi"
   },
   "source": [
    "## Data Preprocessing Practice\n",
    "Let's practice data preprocessing using the example dataset.\n",
    "\n",
    "- Handling Missing Values\n",
    "- Scaling Data\n",
    "- Handling Categorical Data"
   ]
  },
  {
   "cell_type": "code",
   "execution_count": 1,
   "metadata": {},
   "outputs": [],
   "source": [
    "import pandas as pd\n",
    "import numpy as np\n",
    "import seaborn as sns\n",
    "from matplotlib import pyplot as plt"
   ]
  },
  {
   "cell_type": "markdown",
   "metadata": {},
   "source": [
    "### Tiatanic"
   ]
  },
  {
   "cell_type": "markdown",
   "metadata": {},
   "source": [
    "1. load the `titanic` dataset using seaborn module"
   ]
  },
  {
   "cell_type": "markdown",
   "metadata": {
    "colab_type": "text",
    "id": "dT79rhPSvMk1"
   },
   "source": [
    "2. How many missing values are there in the 'Age' column?"
   ]
  },
  {
   "cell_type": "markdown",
   "metadata": {
    "colab_type": "text",
    "id": "kMHkN9S6vhLN"
   },
   "source": [
    "3. Replace the missing values in the 'Age' column with the median."
   ]
  },
  {
   "cell_type": "markdown",
   "metadata": {},
   "source": [
    "### Iris"
   ]
  },
  {
   "cell_type": "markdown",
   "metadata": {},
   "source": [
    "1. load the `iris` dataset using `sklearn` module\n",
    "- convert the sklearn dataset into a dataframe for easier handling"
   ]
  },
  {
   "cell_type": "markdown",
   "metadata": {},
   "source": [
    "2. define iris target\n"
   ]
  },
  {
   "cell_type": "markdown",
   "metadata": {},
   "source": [
    "### Breast Cancer"
   ]
  },
  {
   "cell_type": "markdown",
   "metadata": {},
   "source": [
    "1. load the `diabetes` dataset using `sklearn` module\n",
    "- lets use raw sklearn data here. not converting to dataframe\n",
    "- after convert read DESCR\n",
    "- then print feature_names"
   ]
  },
  {
   "cell_type": "markdown",
   "metadata": {},
   "source": [
    "2. Split that into train test data with 8:2 ratio"
   ]
  },
  {
   "cell_type": "markdown",
   "metadata": {},
   "source": [
    "3. Scaling the Data with StandardScaler\n",
    "- should be scale the data anyways? use box plot to check\n",
    "- if there are, print the feature names eg worst area"
   ]
  }
 ],
 "metadata": {
  "colab": {
   "authorship_tag": "ABX9TyOwUm8TlKWRGE4lsO9xMiLu",
   "collapsed_sections": [],
   "mount_file_id": "1CGyodkC4F5Lf6xvi6MRpOhp7rmrySdAZ",
   "name": "데이터전처리_실습.ipynb",
   "provenance": [],
   "toc_visible": true
  },
  "kernelspec": {
   "display_name": "venv",
   "language": "python",
   "name": "python3"
  },
  "language_info": {
   "codemirror_mode": {
    "name": "ipython",
    "version": 3
   },
   "file_extension": ".py",
   "mimetype": "text/x-python",
   "name": "python",
   "nbconvert_exporter": "python",
   "pygments_lexer": "ipython3",
   "version": "3.8.6"
  }
 },
 "nbformat": 4,
 "nbformat_minor": 1
}
